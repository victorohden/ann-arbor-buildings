{
 "cells": [
  {
   "cell_type": "code",
   "execution_count": 1,
   "metadata": {},
   "outputs": [],
   "source": [
    "import os\n",
    "import pandas as pd\n",
    "import re"
   ]
  },
  {
   "cell_type": "code",
   "execution_count": 2,
   "metadata": {},
   "outputs": [],
   "source": [
    "# Read the text file into a list of lines\n",
    "with open(\".\\list_buildings.txt\", 'r') as file:\n",
    "    lines = file.readlines()\n",
    "\n",
    "# print(lines)"
   ]
  },
  {
   "cell_type": "code",
   "execution_count": 3,
   "metadata": {},
   "outputs": [],
   "source": [
    "# Get the variables from the dataset and save it as dataframe. This functions will work for the current dataset. \n",
    "def parse_line(line):\n",
    "    match = re.match(r'(\\d+)\\.\\s+([\\d,\\s-]+)\\s+(.+?)\\s+(Street|Road|Avenue|Broadway|Parkway|Place|Drive|Trail)\\s+(.+?)\\s+\\((\\w)\\)', line.strip())\n",
    "    if match:\n",
    "        index = int(match.group(1))\n",
    "        addresses = match.group(2)\n",
    "        street_name = match.group(3) + \" \" + match.group(4)\n",
    "        details = match.group(5)\n",
    "        region = match.group(6)\n",
    "        \n",
    "        # Split the addresses by comma and process each part\n",
    "        entries = []\n",
    "        for part in addresses.split(','):\n",
    "            part = part.strip()\n",
    "            if '-' in part:\n",
    "                start_number, end_number = map(int, part.split('-'))\n",
    "                for number in range(start_number, end_number + 1):\n",
    "                    entries.append({\n",
    "                        'Index': index,\n",
    "                        'Number': number,\n",
    "                        'Street Name': street_name,\n",
    "                        'Details': details,\n",
    "                        'Region': region\n",
    "                    })\n",
    "            else:\n",
    "                number = int(part)\n",
    "                entries.append({\n",
    "                    'Index': index,\n",
    "                    'Number': number,\n",
    "                    'Street Name': street_name,\n",
    "                    'Details': details,\n",
    "                    'Region': region\n",
    "                })\n",
    "        return entries\n",
    "    return []\n",
    "\n",
    "# Sample data, if you like to try out\n",
    "# lines = [\n",
    "#     \"42. 17, 520, 530-540 Elizabeth Street Complex of St. Thomas the Apostle (D)\",\n",
    "#     # Add other lines here\n",
    "# ]\n",
    "\n",
    "# Parse all lines and collect the results\n",
    "data = []\n",
    "for line in lines:\n",
    "    data.extend(parse_line(line))\n",
    "\n",
    "# Create a DataFrame from the collected data\n",
    "df = pd.DataFrame(data)\n",
    "\n",
    "# Add city and state name\n",
    "df['city'] = 'Ann Arbor'\n",
    "df['state'] = 'Michigan'\n",
    "\n",
    "# Save the DataFrame to a CSV file if needed\n",
    "df.to_csv('buildings_annarbor.csv', index=False)"
   ]
  },
  {
   "cell_type": "code",
   "execution_count": 4,
   "metadata": {},
   "outputs": [
    {
     "data": {
      "text/html": [
       "<div>\n",
       "<style scoped>\n",
       "    .dataframe tbody tr th:only-of-type {\n",
       "        vertical-align: middle;\n",
       "    }\n",
       "\n",
       "    .dataframe tbody tr th {\n",
       "        vertical-align: top;\n",
       "    }\n",
       "\n",
       "    .dataframe thead th {\n",
       "        text-align: right;\n",
       "    }\n",
       "</style>\n",
       "<table border=\"1\" class=\"dataframe\">\n",
       "  <thead>\n",
       "    <tr style=\"text-align: right;\">\n",
       "      <th></th>\n",
       "      <th>Index</th>\n",
       "      <th>Number</th>\n",
       "      <th>Street Name</th>\n",
       "      <th>Details</th>\n",
       "      <th>Region</th>\n",
       "      <th>city</th>\n",
       "      <th>state</th>\n",
       "    </tr>\n",
       "  </thead>\n",
       "  <tbody>\n",
       "    <tr>\n",
       "      <th>0</th>\n",
       "      <td>1</td>\n",
       "      <td>109</td>\n",
       "      <td>East Ann Street</td>\n",
       "      <td>Hoban Block</td>\n",
       "      <td>D</td>\n",
       "      <td>Ann Arbor</td>\n",
       "      <td>Michigan</td>\n",
       "    </tr>\n",
       "    <tr>\n",
       "      <th>1</th>\n",
       "      <td>1</td>\n",
       "      <td>110</td>\n",
       "      <td>East Ann Street</td>\n",
       "      <td>Hoban Block</td>\n",
       "      <td>D</td>\n",
       "      <td>Ann Arbor</td>\n",
       "      <td>Michigan</td>\n",
       "    </tr>\n",
       "    <tr>\n",
       "      <th>2</th>\n",
       "      <td>1</td>\n",
       "      <td>111</td>\n",
       "      <td>East Ann Street</td>\n",
       "      <td>Hoban Block</td>\n",
       "      <td>D</td>\n",
       "      <td>Ann Arbor</td>\n",
       "      <td>Michigan</td>\n",
       "    </tr>\n",
       "    <tr>\n",
       "      <th>3</th>\n",
       "      <td>1</td>\n",
       "      <td>112</td>\n",
       "      <td>East Ann Street</td>\n",
       "      <td>Hoban Block</td>\n",
       "      <td>D</td>\n",
       "      <td>Ann Arbor</td>\n",
       "      <td>Michigan</td>\n",
       "    </tr>\n",
       "    <tr>\n",
       "      <th>4</th>\n",
       "      <td>1</td>\n",
       "      <td>113</td>\n",
       "      <td>East Ann Street</td>\n",
       "      <td>Hoban Block</td>\n",
       "      <td>D</td>\n",
       "      <td>Ann Arbor</td>\n",
       "      <td>Michigan</td>\n",
       "    </tr>\n",
       "  </tbody>\n",
       "</table>\n",
       "</div>"
      ],
      "text/plain": [
       "   Index  Number      Street Name      Details Region       city     state\n",
       "0      1     109  East Ann Street  Hoban Block      D  Ann Arbor  Michigan\n",
       "1      1     110  East Ann Street  Hoban Block      D  Ann Arbor  Michigan\n",
       "2      1     111  East Ann Street  Hoban Block      D  Ann Arbor  Michigan\n",
       "3      1     112  East Ann Street  Hoban Block      D  Ann Arbor  Michigan\n",
       "4      1     113  East Ann Street  Hoban Block      D  Ann Arbor  Michigan"
      ]
     },
     "execution_count": 4,
     "metadata": {},
     "output_type": "execute_result"
    }
   ],
   "source": [
    "df.head()"
   ]
  },
  {
   "cell_type": "code",
   "execution_count": 5,
   "metadata": {},
   "outputs": [
    {
     "data": {
      "text/plain": [
       "178"
      ]
     },
     "execution_count": 5,
     "metadata": {},
     "output_type": "execute_result"
    }
   ],
   "source": [
    "len(df.Index.unique()) #checking the number of index"
   ]
  },
  {
   "cell_type": "code",
   "execution_count": 6,
   "metadata": {},
   "outputs": [],
   "source": [
    "# df.Index.unique()"
   ]
  }
 ],
 "metadata": {
  "kernelspec": {
   "display_name": ".venv",
   "language": "python",
   "name": "python3"
  },
  "language_info": {
   "codemirror_mode": {
    "name": "ipython",
    "version": 3
   },
   "file_extension": ".py",
   "mimetype": "text/x-python",
   "name": "python",
   "nbconvert_exporter": "python",
   "pygments_lexer": "ipython3",
   "version": "3.11.4"
  }
 },
 "nbformat": 4,
 "nbformat_minor": 2
}
